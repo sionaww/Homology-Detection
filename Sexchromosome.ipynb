{
 "cells": [
  {
   "cell_type": "code",
   "execution_count": 342,
   "id": "b716b650-7f74-4a53-a7db-3f673fedd93a",
   "metadata": {},
   "outputs": [],
   "source": [
    "%run /Users/sionawadhawan/Downloads/humanChickenProteins.py "
   ]
  },
  {
   "cell_type": "code",
   "execution_count": 343,
   "id": "251cf4f3-a898-407b-8c14-44699948c199",
   "metadata": {},
   "outputs": [],
   "source": [
    "%run /Users/sionawadhawan/Downloads/blosum62.py "
   ]
  },
  {
   "cell_type": "code",
   "execution_count": 344,
   "id": "445acd3f-26df-45c3-9ab1-0a3b09dde5e6",
   "metadata": {},
   "outputs": [
    {
     "data": {
      "text/plain": [
       "-48"
      ]
     },
     "execution_count": 344,
     "metadata": {},
     "output_type": "execute_result"
    }
   ],
   "source": [
    "def memoAlignScore(S1, S2, gap, substitutionMatrix, memo):\n",
    "    if S1 == '': \n",
    "        return gap*len(S2) \n",
    "    if S2 == '': \n",
    "        return  gap*len(S1)\n",
    "    if (S1, S2) in memo:\n",
    "        return memo[(S1, S2)]\n",
    "    elif S1[0] == S2[0]:\n",
    "        key = (S1[0], S2[0]) \n",
    "        return substitutionMatrix.get(key, 0) + memoAlignScore(S1[1:], S2[1:], gap, substitutionMatrix, memo)\n",
    "    else:\n",
    "        key = (S1[0], S2[0]) \n",
    "        opt1 =  gap + memoAlignScore(S1[1:], S2, gap, substitutionMatrix, memo) \n",
    "        opt2 =  gap + memoAlignScore(S1, S2[1:], gap, substitutionMatrix, memo)\n",
    "        opt3 =  substitutionMatrix.get(key, gap) + memoAlignScore(S1[1:], S2[1:], gap, substitutionMatrix, memo)\n",
    "        \n",
    "        solution = max(opt1, opt2, opt3)\n",
    "        memo[(S1,S2)] = solution\n",
    "        return solution\n",
    "\n"
   ]
  },
  {
   "cell_type": "code",
   "execution_count": 345,
   "id": "158f4348-70c8-4997-abcd-0c0b8c6cab0d",
   "metadata": {},
   "outputs": [
    {
     "name": "stdout",
     "output_type": "stream",
     "text": [
      "MAVDIQPACLGLYCGKTLLFKNGSTEIYGECGVCPRGQRTNAQKYCQPCTESPELYDWLYLGFMAMLPLVLHWFFIEWYSGKKSSSALFQHITALFECSMAAIITLLVSDPVGVLYIRSCRVLMLSDWYTMLYNPSPDYVTTVHCTHEAVYPLYTIVFIYYAFCLVLMMLLRPLLVKKIACGLGKSDRFKSIYAALYFFPILTVLQAVGGGLLYYAFPYIILVLSLVTLAVYMSASEIENCYDLLVRKKRLIVLFSHWLLHAYGIISISRVDKLEQDLPLLALVPTPALFYLFTAKFTEPSRILSEGANGH\n"
     ]
    }
   ],
   "source": []
  },
  {
   "cell_type": "code",
   "execution_count": 346,
   "id": "33e7ed3a-e2a5-442f-b900-e3100ee0a9b0",
   "metadata": {},
   "outputs": [
    {
     "name": "stdout",
     "output_type": "stream",
     "text": [
      "human --- chicken\n",
      "chr1 8921061 h1 --- chr1 8921061\n",
      "chr1 19967048 h2 --- chr1 19967048\n",
      "chr1 165370159 h3 --- chr1 165370159\n",
      "chr11 118415243 h4 --- chr11 118415243\n",
      "chr11 122943035 h5 --- chr11 122943035\n",
      "chr11 133938820 h6 --- chr11 133938820\n",
      "chr14 59951161 h8 --- chr14 59951161\n",
      "chr14 72399156 h9 --- chr14 72399156\n",
      "chr14 77940740 h10 --- chr14 77940740\n",
      "chr14 104552016 h11 --- chr14 104552016\n",
      "chr22 19710468 h13 --- chr22 19710468\n",
      "chr22 35936915 h14 --- chr22 35936915\n",
      "chr22 43088127 h15 --- chr22 43088127\n",
      "chr3 45016733 h17 --- chr3 45016733\n",
      "chr5 36248536 h18 --- chr5 36248536\n",
      "chr5 41925356 h19 --- chr5 41925356\n",
      "chr5 64813593 h20 --- chr5 64813593\n",
      "chr5 112196885 h22 --- chr5 112196885\n",
      "chr6 3118608 h23 --- chr6 3118608\n",
      "chr6 12290596 h24 --- chr6 12290596\n",
      "chr8 72753784 h25 --- chr8 72753784\n",
      "chr8 109455830 h26 --- chr8 109455830\n",
      "chr8 117654369 h27 --- chr8 117654369\n",
      "chr9 37485932 h28 --- chr9 37485932\n",
      "chr9 80037995 h29 --- chr9 80037995\n",
      "chrX 13671225 h30 --- chrX 13671225\n",
      "chrX 13789150 h31 --- chrX 13789150\n",
      "chrX 15843929 h32 --- chrX 15843929\n",
      "chrX 118533023 h34 --- chrX 118533023\n",
      "chicken --- human\n",
      "chr1 54068502 c1 --- chr1 54068502\n",
      "chr1 70507590 c2 --- chr1 70507590\n",
      "chr1 125276190 c3 --- chr1 125276190\n",
      "chr1 126252299 c4 --- chr1 126252299\n",
      "chr1 126408830 c5 --- chr1 126408830\n",
      "chr15 791273 c6 --- chr15 791273\n",
      "chr2 43123243 c8 --- chr2 43123243\n",
      "chr2 63816357 c9 --- chr2 63816357\n",
      "chr2 67495019 c10 --- chr2 67495019\n",
      "chr2 121960191 c11 --- chr2 121960191\n",
      "chr2 137539936 c12 --- chr2 137539936\n",
      "chr2 140871172 c13 --- chr2 140871172\n",
      "chr21 3197152 c15 --- chr21 3197152\n",
      "chr21 4801383 c16 --- chr21 4801383\n",
      "chr24 2542440 c17 --- chr24 2542440\n",
      "chr24 3068439 c18 --- chr24 3068439\n",
      "chr24 5629899 c19 --- chr24 5629899\n",
      "chr4 16697566 c21 --- chr4 16697566\n",
      "chr5 28862733 c22 --- chr5 28862733\n",
      "chr5 41664432 c23 --- chr5 41664432\n",
      "chr5 53149708 c24 --- chr5 53149708\n",
      "chr5 57373453 c25 --- chr5 57373453\n",
      "chr8 5341177 c26 --- chr8 5341177\n",
      "chrZ 10378546 c27 --- chrZ 10378546\n",
      "chrZ 12697502 c28 --- chrZ 12697502\n",
      "chrZ 19960479 c29 --- chrZ 19960479\n",
      "chrZ 37281239 c30 --- chrZ 37281239\n",
      "chrZ 45168069 c31 --- chrZ 45168069\n",
      "chrZ 74199054 c33 --- chrZ 74199054\n"
     ]
    }
   ],
   "source": [
    "def allScores(geneList1,geneList2, memo):\n",
    "    if geneList1 == [] or geneList2 == []:\n",
    "        return {}\n",
    "    if geneList1[0] == '':\n",
    "       return allScores(geneList1[1:],geneList2) \n",
    "    if geneList2[0] == '':\n",
    "        return allScores(geneList1,geneList2[1:])\n",
    "    if (geneList1[0], geneList2[0]) in memo:\n",
    "        return {(geneList1[0], geneList2[0]): memo[(geneList1[0], geneList2[0])]} \n",
    "    else:\n",
    "        score = memoAlignScore(geneD[geneList1[0]][3], geneD[geneList2[0]][3],-9,blosum62,{})\n",
    "        memo[(geneList1[0], geneList2[0])] = score\n",
    "        \n",
    "        #rest of scoring options  \n",
    "        remaining_scores = allScores(geneList1[1:],geneList2[1:], memo)\n",
    "        remaining_scores1 = allScores(geneList1[1:],geneList2, memo)\n",
    "        remaining_scores2 = allScores(geneList1, geneList2[1:], memo)\n",
    "        \n",
    "        memo.update(remaining_scores)\n",
    "        memo.update(remaining_scores1)\n",
    "        memo.update(remaining_scores2)\n",
    "        \n",
    "        return memo\n",
    "\n",
    "allScores(sampleHumanGeneList,sampleChickenGeneList, {})\n",
    "allScoresD=allScores(sampleHumanGeneList,sampleChickenGeneList, {})\n",
    "        \n",
    "def closestMatch(gene,allScoresD):\n",
    "    maxval = float('-inf') \n",
    "    closestmatch = 0\n",
    "    if gene == '':\n",
    "        closestmatch = 0\n",
    "    for key in allScoresD.keys(): \n",
    "        if gene in key:\n",
    "            if allScoresD[key] > maxval:\n",
    "                maxval = allScoresD[key]\n",
    "                if gene == key[0]:\n",
    "                    closestmatch = key[1]\n",
    "                else:\n",
    "                    closestmatch = key[0]\n",
    "    return closestmatch \n",
    "\n",
    "closestMatch('h17',allScoresD)\n",
    "\n",
    "def printBRH(geneName,allScoresD):   \n",
    "    solution = 0\n",
    "    recipgene = 0\n",
    "    matchgene = closestMatch(geneName, allScoresD)\n",
    "    recipgene = closestMatch(matchgene, allScoresD)\n",
    "    if recipgene == geneName:\n",
    "        print(f\"{geneD[geneName][0]} {geneD[geneName][1]} {geneName} --- {geneD[recipgene][0]} {geneD[recipgene][1]}\")\n",
    "        \n",
    "        \n",
    "def runBRH():\n",
    "    allScoresD=allScores(humanGeneList,chickenGeneList, {})\n",
    "    print('human --- chicken')\n",
    "    for geneName in humanGeneList:\n",
    "        printBRH(geneName,allScoresD)\n",
    "    print\n",
    "    print('chicken --- human')\n",
    "    for geneName in chickenGeneList:\n",
    "        printBRH(geneName,allScoresD)\n",
    "   \n",
    "\n",
    "    \n",
    " \n",
    "  \n",
    "            \n",
    "        \n",
    "        \n",
    "    \n",
    "        \n",
    "        \n",
    "   \n",
    "    \n",
    "    \n",
    "    \n"
   ]
  },
  {
   "cell_type": "code",
   "execution_count": 347,
   "id": "ed223266-d4d3-4dad-bc77-33da30c1ecfc",
   "metadata": {},
   "outputs": [],
   "source": [
    "\n"
   ]
  }
 ],
 "metadata": {
  "kernelspec": {
   "display_name": "Python 3 (ipykernel)",
   "language": "python",
   "name": "python3"
  },
  "language_info": {
   "codemirror_mode": {
    "name": "ipython",
    "version": 3
   },
   "file_extension": ".py",
   "mimetype": "text/x-python",
   "name": "python",
   "nbconvert_exporter": "python",
   "pygments_lexer": "ipython3",
   "version": "3.12.5"
  }
 },
 "nbformat": 4,
 "nbformat_minor": 5
}
